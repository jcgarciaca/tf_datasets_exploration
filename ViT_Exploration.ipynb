{
  "nbformat": 4,
  "nbformat_minor": 0,
  "metadata": {
    "colab": {
      "name": "ViT_Exploration.ipynb",
      "provenance": [],
      "collapsed_sections": []
    },
    "kernelspec": {
      "name": "python3",
      "display_name": "Python 3"
    },
    "language_info": {
      "name": "python"
    },
    "accelerator": "GPU"
  },
  "cells": [
    {
      "cell_type": "code",
      "source": [
        "!pip install -U tensorflow-addons"
      ],
      "metadata": {
        "id": "Yxs3VESAFitD",
        "colab": {
          "base_uri": "https://localhost:8080/"
        },
        "outputId": "b5187958-802e-4587-bdaf-f3b356bc5c86"
      },
      "execution_count": 1,
      "outputs": [
        {
          "output_type": "stream",
          "name": "stdout",
          "text": [
            "Looking in indexes: https://pypi.org/simple, https://us-python.pkg.dev/colab-wheels/public/simple/\n",
            "Collecting tensorflow-addons\n",
            "  Downloading tensorflow_addons-0.17.0-cp37-cp37m-manylinux_2_17_x86_64.manylinux2014_x86_64.whl (1.1 MB)\n",
            "\u001b[K     |████████████████████████████████| 1.1 MB 5.6 MB/s \n",
            "\u001b[?25hRequirement already satisfied: typeguard>=2.7 in /usr/local/lib/python3.7/dist-packages (from tensorflow-addons) (2.7.1)\n",
            "Requirement already satisfied: packaging in /usr/local/lib/python3.7/dist-packages (from tensorflow-addons) (21.3)\n",
            "Requirement already satisfied: pyparsing!=3.0.5,>=2.0.2 in /usr/local/lib/python3.7/dist-packages (from packaging->tensorflow-addons) (3.0.9)\n",
            "Installing collected packages: tensorflow-addons\n",
            "Successfully installed tensorflow-addons-0.17.0\n"
          ]
        }
      ]
    },
    {
      "cell_type": "markdown",
      "source": [
        "# Vision Transformers"
      ],
      "metadata": {
        "id": "3o4oEKeIoWTa"
      }
    },
    {
      "cell_type": "code",
      "execution_count": 2,
      "metadata": {
        "id": "1i8GKmT9mIZO"
      },
      "outputs": [],
      "source": [
        "import numpy as np\n",
        "import tensorflow as tf\n",
        "import matplotlib.pyplot as plt\n",
        "from sklearn.model_selection import train_test_split\n",
        "import tensorflow_addons as tfa"
      ]
    },
    {
      "cell_type": "markdown",
      "source": [
        "## Download Dataset"
      ],
      "metadata": {
        "id": "L1d07KCToTis"
      }
    },
    {
      "cell_type": "code",
      "source": [
        "(x_train, y_train), (x_test, y_test) = tf.keras.datasets.cifar100.load_data()\n",
        "print('x_train shape', x_train.shape)\n",
        "print('y_train shape', y_train.shape)\n",
        "print('x_test shape', x_test.shape)\n",
        "print('y_test shape', y_test.shape)"
      ],
      "metadata": {
        "colab": {
          "base_uri": "https://localhost:8080/"
        },
        "id": "S6zJNG2Mnnsy",
        "outputId": "a4c842b9-b8f7-43d0-f634-88c30f9e2aeb"
      },
      "execution_count": 3,
      "outputs": [
        {
          "output_type": "stream",
          "name": "stdout",
          "text": [
            "Downloading data from https://www.cs.toronto.edu/~kriz/cifar-100-python.tar.gz\n",
            "169009152/169001437 [==============================] - 2s 0us/step\n",
            "169017344/169001437 [==============================] - 2s 0us/step\n",
            "x_train shape (50000, 32, 32, 3)\n",
            "y_train shape (50000, 1)\n",
            "x_test shape (10000, 32, 32, 3)\n",
            "y_test shape (10000, 1)\n"
          ]
        }
      ]
    },
    {
      "cell_type": "code",
      "source": [
        "num_classes = 100\n",
        "input_shape = (32, 32, 3)\n",
        "image_size = 72\n",
        "num_epochs = 30\n",
        "\n",
        "learning_rate = 0.001\n",
        "weight_decay = 0.0001\n",
        "batch_size = 256\n",
        "patch_size = 6\n",
        "projection_dim = 64\n",
        "num_heads = 4\n",
        "num_patches = (image_size // patch_size) ** 2\n",
        "transformer_units = [\n",
        "    projection_dim * 2,\n",
        "    projection_dim\n",
        "]\n",
        "transformer_layers = 8\n",
        "mlp_head_units = [2048, 1024]"
      ],
      "metadata": {
        "id": "fo0UModG41g1"
      },
      "execution_count": 4,
      "outputs": []
    },
    {
      "cell_type": "code",
      "source": [
        "train_im, val_im, train_label, val_label = train_test_split(x_train, y_train, test_size=.2, stratify=y_train, random_state=42, shuffle=True)\n",
        "\n",
        "unique, counts = np.unique(train_label, return_counts=True)\n",
        "print('Train labels', dict(zip(unique, counts)))\n",
        "\n",
        "unique, counts = np.unique(val_label, return_counts=True)\n",
        "print('Validation labels', dict(zip(unique, counts)))"
      ],
      "metadata": {
        "colab": {
          "base_uri": "https://localhost:8080/"
        },
        "id": "MdmUQsfvoMXi",
        "outputId": "3420c8b1-cb43-4e4b-991e-ebdd65c93ad5"
      },
      "execution_count": 5,
      "outputs": [
        {
          "output_type": "stream",
          "name": "stdout",
          "text": [
            "Train labels {0: 400, 1: 400, 2: 400, 3: 400, 4: 400, 5: 400, 6: 400, 7: 400, 8: 400, 9: 400, 10: 400, 11: 400, 12: 400, 13: 400, 14: 400, 15: 400, 16: 400, 17: 400, 18: 400, 19: 400, 20: 400, 21: 400, 22: 400, 23: 400, 24: 400, 25: 400, 26: 400, 27: 400, 28: 400, 29: 400, 30: 400, 31: 400, 32: 400, 33: 400, 34: 400, 35: 400, 36: 400, 37: 400, 38: 400, 39: 400, 40: 400, 41: 400, 42: 400, 43: 400, 44: 400, 45: 400, 46: 400, 47: 400, 48: 400, 49: 400, 50: 400, 51: 400, 52: 400, 53: 400, 54: 400, 55: 400, 56: 400, 57: 400, 58: 400, 59: 400, 60: 400, 61: 400, 62: 400, 63: 400, 64: 400, 65: 400, 66: 400, 67: 400, 68: 400, 69: 400, 70: 400, 71: 400, 72: 400, 73: 400, 74: 400, 75: 400, 76: 400, 77: 400, 78: 400, 79: 400, 80: 400, 81: 400, 82: 400, 83: 400, 84: 400, 85: 400, 86: 400, 87: 400, 88: 400, 89: 400, 90: 400, 91: 400, 92: 400, 93: 400, 94: 400, 95: 400, 96: 400, 97: 400, 98: 400, 99: 400}\n",
            "Validation labels {0: 100, 1: 100, 2: 100, 3: 100, 4: 100, 5: 100, 6: 100, 7: 100, 8: 100, 9: 100, 10: 100, 11: 100, 12: 100, 13: 100, 14: 100, 15: 100, 16: 100, 17: 100, 18: 100, 19: 100, 20: 100, 21: 100, 22: 100, 23: 100, 24: 100, 25: 100, 26: 100, 27: 100, 28: 100, 29: 100, 30: 100, 31: 100, 32: 100, 33: 100, 34: 100, 35: 100, 36: 100, 37: 100, 38: 100, 39: 100, 40: 100, 41: 100, 42: 100, 43: 100, 44: 100, 45: 100, 46: 100, 47: 100, 48: 100, 49: 100, 50: 100, 51: 100, 52: 100, 53: 100, 54: 100, 55: 100, 56: 100, 57: 100, 58: 100, 59: 100, 60: 100, 61: 100, 62: 100, 63: 100, 64: 100, 65: 100, 66: 100, 67: 100, 68: 100, 69: 100, 70: 100, 71: 100, 72: 100, 73: 100, 74: 100, 75: 100, 76: 100, 77: 100, 78: 100, 79: 100, 80: 100, 81: 100, 82: 100, 83: 100, 84: 100, 85: 100, 86: 100, 87: 100, 88: 100, 89: 100, 90: 100, 91: 100, 92: 100, 93: 100, 94: 100, 95: 100, 96: 100, 97: 100, 98: 100, 99: 100}\n"
          ]
        }
      ]
    },
    {
      "cell_type": "code",
      "source": [
        "training_data = tf.data.Dataset.from_tensor_slices((train_im, train_label))\n",
        "validation_data = tf.data.Dataset.from_tensor_slices((val_im, val_label))\n",
        "test_data = tf.data.Dataset.from_tensor_slices((x_test, y_test))"
      ],
      "metadata": {
        "id": "7v0i-wa1q6Tu"
      },
      "execution_count": 6,
      "outputs": []
    },
    {
      "cell_type": "code",
      "source": [
        "sample_data = next(iter(training_data))\n",
        "plt.figure()\n",
        "plt.imshow(sample_data[0])\n",
        "plt.title(np.argmax(sample_data[1]))\n",
        "plt.show()"
      ],
      "metadata": {
        "colab": {
          "base_uri": "https://localhost:8080/",
          "height": 281
        },
        "id": "8fqJnosupvkN",
        "outputId": "1cba34b8-f456-4852-e042-e1731e015d3b"
      },
      "execution_count": 7,
      "outputs": [
        {
          "output_type": "display_data",
          "data": {
            "text/plain": [
              "<Figure size 432x288 with 1 Axes>"
            ],
            "image/png": "[encoded data removed]"
          },
          "metadata": {
            "needs_background": "light"
          }
        }
      ]
    },
    {
      "cell_type": "code",
      "source": [
        "train_data_batches = training_data.shuffle(buffer_size=40000).batch(batch_size).prefetch(buffer_size=tf.data.AUTOTUNE)\n",
        "valid_data_batches = validation_data.shuffle(buffer_size=10000).batch(32).prefetch(buffer_size=tf.data.AUTOTUNE)\n",
        "test_data_batches = test_data.shuffle(buffer_size=10000).batch(32).prefetch(buffer_size=tf.data.AUTOTUNE)"
      ],
      "metadata": {
        "id": "VTNhLwupsCd6"
      },
      "execution_count": 8,
      "outputs": []
    },
    {
      "cell_type": "markdown",
      "source": [
        "## Patch Generation"
      ],
      "metadata": {
        "id": "hG0gEl9msZK0"
      }
    },
    {
      "cell_type": "markdown",
      "source": [
        "### Keras blog"
      ],
      "metadata": {
        "id": "pJUjrhG1uZLx"
      }
    },
    {
      "cell_type": "code",
      "source": [
        "class generate_patch(tf.keras.layers.Layer):\n",
        "  def __init__(self, patch_size):\n",
        "    super(generate_patch, self).__init__()\n",
        "    self.patch_size = patch_size\n",
        "\n",
        "  def call(self, images):\n",
        "    batch_size = tf.shape(images)[0]\n",
        "    patches = tf.image.extract_patches(\n",
        "        images=images,\n",
        "        sizes=[1, self.patch_size, self.patch_size, 1],\n",
        "        strides=[1, self.patch_size, self.patch_size, 1],\n",
        "        rates=[1, 1, 1, 1],\n",
        "        padding='VALID'\n",
        "    )\n",
        "    patch_dims = patches.shape[-1]\n",
        "    patches = tf.reshape(patches, [batch_size, -1, patch_dims])\n",
        "    return patches"
      ],
      "metadata": {
        "id": "jV4hqWHFujnG"
      },
      "execution_count": 9,
      "outputs": []
    },
    {
      "cell_type": "code",
      "source": [
        "train_iter_im, train_iter_label = next(iter(training_data))\n",
        "train_iter_im = tf.expand_dims(train_iter_im, 0)\n",
        "train_iter_label = train_iter_label.numpy()"
      ],
      "metadata": {
        "id": "373s5mDswJ5H"
      },
      "execution_count": 10,
      "outputs": []
    },
    {
      "cell_type": "code",
      "source": [
        "generate_patch_layer = generate_patch(patch_size=patch_size)\n",
        "patches = generate_patch_layer(train_iter_im)\n",
        "print(patches.shape)"
      ],
      "metadata": {
        "colab": {
          "base_uri": "https://localhost:8080/"
        },
        "id": "dMSo5DPOxQGX",
        "outputId": "60b11b7c-02b0-4f70-eab7-15382ba68576"
      },
      "execution_count": 11,
      "outputs": [
        {
          "output_type": "stream",
          "name": "stdout",
          "text": [
            "(1, 25, 108)\n"
          ]
        }
      ]
    },
    {
      "cell_type": "code",
      "source": [
        "def render_image_and_patches(image, patches, patch_size):\n",
        "  plt.figure(figsize=(6, 6))\n",
        "  plt.imshow(tf.cast(image[0], tf.uint8))\n",
        "  n = int(np.sqrt(patches.shape[1]))\n",
        "  plt.figure(figsize=(6, 6))\n",
        "  for i, patch in enumerate(patches[0]):\n",
        "    ax = plt.subplot(n, n, i + 1)\n",
        "    patch_img = tf.reshape(patch, (patch_size, patch_size, 3))\n",
        "    ax.imshow(patch_img.numpy().astype('uint8'))\n",
        "    ax.axis('off')\n",
        "\n",
        "render_image_and_patches(train_iter_im, patches, patch_size)"
      ],
      "metadata": {
        "colab": {
          "base_uri": "https://localhost:8080/",
          "height": 714
        },
        "id": "ek-Hnwm-xiPi",
        "outputId": "5fbde2d7-49fb-4b63-d511-26f64427e9aa"
      },
      "execution_count": 12,
      "outputs": [
        {
          "output_type": "display_data",
          "data": {
            "text/plain": [
              "<Figure size 432x432 with 1 Axes>"
            ],
            "image/png": "[encoded data removed]"
          },
          "metadata": {
            "needs_background": "light"
          }
        },
        {
          "output_type": "display_data",
          "data": {
            "text/plain": [
              "<Figure size 432x432 with 25 Axes>"
            ],
            "image/png": "[encoded data removed]"
          },
          "metadata": {
            "needs_background": "light"
          }
        }
      ]
    },
    {
      "cell_type": "code",
      "source": [
        "class PatchEncoder(tf.keras.layers.Layer):\n",
        "  def __init__(self, num_patches, projection_dim, log=False):\n",
        "    super(PatchEncoder, self).__init__()\n",
        "    self.num_patches = num_patches\n",
        "    self.projection = tf.keras.layers.Dense(units=projection_dim)\n",
        "    self.position_embedding = tf.keras.layers.Embedding(\n",
        "        input_dim=num_patches, output_dim=projection_dim\n",
        "    )\n",
        "    self.log = log\n",
        "  \n",
        "  def call(self, patch):\n",
        "    positions = tf.range(start=0, limit=self.num_patches, delta=1)\n",
        "    if self.log:\n",
        "      print('patch input shape:', patch.shape)\n",
        "      print('positions:', positions)\n",
        "      print('embedding:', self.position_embedding(positions).shape)\n",
        "    encoded = self.projection(patch) + self.position_embedding(positions)\n",
        "    return encoded"
      ],
      "metadata": {
        "id": "Q2gs_uWg2S4g"
      },
      "execution_count": 13,
      "outputs": []
    },
    {
      "cell_type": "code",
      "source": [
        "patch_encode_embed = PatchEncoder(num_patches=patches.shape[1], projection_dim=768, log=True)\n",
        "path_encoded = patch_encode_embed(patches)\n",
        "print('Output shape:', path_encoded.shape)"
      ],
      "metadata": {
        "colab": {
          "base_uri": "https://localhost:8080/"
        },
        "id": "X_RtZrZJWdQx",
        "outputId": "f12bac8a-4f1d-4f09-8a19-a331f8217717"
      },
      "execution_count": 14,
      "outputs": [
        {
          "output_type": "stream",
          "name": "stdout",
          "text": [
            "patch input shape: (1, 25, 108)\n",
            "positions: tf.Tensor(\n",
            "[ 0  1  2  3  4  5  6  7  8  9 10 11 12 13 14 15 16 17 18 19 20 21 22 23\n",
            " 24], shape=(25,), dtype=int32)\n",
            "embedding: (25, 768)\n",
            "Output shape: (1, 25, 768)\n"
          ]
        }
      ]
    },
    {
      "cell_type": "markdown",
      "source": [
        "## Build the ViT Model"
      ],
      "metadata": {
        "id": "MwiMnq9Nyi5X"
      }
    },
    {
      "cell_type": "code",
      "source": [
        "data_augmentation = tf.keras.Sequential(\n",
        "    [\n",
        "        tf.keras.layers.Normalization(),\n",
        "        tf.keras.layers.Resizing(image_size, image_size),\n",
        "        tf.keras.layers.RandomFlip('horizontal'),\n",
        "        tf.keras.layers.RandomRotation(factor=0.02),\n",
        "        tf.keras.layers.RandomZoom(\n",
        "            height_factor=0.2, width_factor=0.2\n",
        "        ),\n",
        "    ],\n",
        "    name='data_augmentation',\n",
        ")\n",
        "\n",
        "data_augmentation.layers[0].adapt(x_train)\n",
        "\n",
        "def mlp(x, hidden_units, dropout_rate):\n",
        "  for units in hidden_units:\n",
        "    x = tf.keras.layers.Dense(units=units, activation=tf.nn.gelu)(x)\n",
        "    x = tf.keras.layers.Dropout(rate=dropout_rate)(x)\n",
        "  return x"
      ],
      "metadata": {
        "id": "lfLUZ8-R2adU"
      },
      "execution_count": 15,
      "outputs": []
    },
    {
      "cell_type": "code",
      "source": [
        "def create_vit_classifier():\n",
        "  inputs = tf.keras.layers.Input(shape=input_shape)\n",
        "  augmented = data_augmentation(inputs)\n",
        "  patches = generate_patch(patch_size=patch_size)(augmented)\n",
        "  \n",
        "  encoded_patches = PatchEncoder(num_patches=num_patches, projection_dim=projection_dim)(patches)\n",
        "\n",
        "  # Create multiple layers of the Transformer block\n",
        "  for _ in range(transformer_layers):\n",
        "    x1 = tf.keras.layers.LayerNormalization(epsilon=1e-6)(encoded_patches)\n",
        "    attention_output = tf.keras.layers.MultiHeadAttention(\n",
        "        num_heads=num_heads, key_dim=projection_dim, dropout=.1\n",
        "    )(x1, x1)\n",
        "    x2 = tf.keras.layers.Add()([attention_output, encoded_patches])\n",
        "    x3 = tf.keras.layers.LayerNormalization(epsilon=1e-6)(x2)\n",
        "    x3 = mlp(x3, hidden_units=transformer_units, dropout_rate=.1)\n",
        "    encoded_patches = tf.keras.layers.Add()([x3, x2])\n",
        "\n",
        "  # Create a [batch_size, projection_dim] tensor\n",
        "  representation = tf.keras.layers.LayerNormalization(epsilon=1e-6)(encoded_patches)\n",
        "  representation = tf.keras.layers.Flatten()(representation)\n",
        "  representation = tf.keras.layers.Dropout(.5)(representation)\n",
        "\n",
        "  # MLP\n",
        "  features = mlp(representation, hidden_units=mlp_head_units, dropout_rate=0.5)\n",
        "  logits = tf.keras.layers.Dense(num_classes)(features)\n",
        "\n",
        "  model = tf.keras.Model(inputs=inputs, outputs=logits)\n",
        "  return model\n",
        "\n",
        "model = create_vit_classifier()"
      ],
      "metadata": {
        "id": "y9T3JpjH6xgW"
      },
      "execution_count": 16,
      "outputs": []
    },
    {
      "cell_type": "code",
      "source": [
        "output_sample = model(train_iter_im)\n",
        "output_sample.shape"
      ],
      "metadata": {
        "colab": {
          "base_uri": "https://localhost:8080/"
        },
        "id": "-fxp--OP7rjL",
        "outputId": "18551925-3c11-4511-b340-419c769c347d"
      },
      "execution_count": 17,
      "outputs": [
        {
          "output_type": "execute_result",
          "data": {
            "text/plain": [
              "TensorShape([1, 100])"
            ]
          },
          "metadata": {},
          "execution_count": 17
        }
      ]
    },
    {
      "cell_type": "markdown",
      "source": [
        "##Compile and train the model"
      ],
      "metadata": {
        "id": "tewJw3Hr_NbS"
      }
    },
    {
      "cell_type": "code",
      "source": [
        "def run_experiment(model):\n",
        "  optimizer = tfa.optimizers.AdamW(\n",
        "      weight_decay=weight_decay,\n",
        "      learning_rate=learning_rate\n",
        "  )\n",
        "\n",
        "  model.compile(\n",
        "      optimizer=optimizer,\n",
        "      loss=tf.keras.losses.SparseCategoricalCrossentropy(from_logits=True),\n",
        "      metrics=[\n",
        "               tf.keras.metrics.SparseCategoricalAccuracy(name='accuracy'),\n",
        "               tf.keras.metrics.SparseTopKCategoricalAccuracy(5, name='top5-accuracy')\n",
        "      ]\n",
        "  )\n",
        "\n",
        "  checkpoint_filepath = '/tmp/checkpoint'\n",
        "  checkpoint_callback = tf.keras.callbacks.ModelCheckpoint(\n",
        "      checkpoint_filepath,\n",
        "      save_best_only=True,\n",
        "      save_weights_only=True\n",
        "  )\n",
        "\n",
        "  # history = model.fit(\n",
        "  #     train_data_batches,\n",
        "  #     epochs=num_epochs,\n",
        "  #     validation_data=valid_data_batches,\n",
        "  #     callbacks=[checkpoint_callback]\n",
        "  # )  \n",
        "\n",
        "  history = model.fit(\n",
        "      x=x_train,\n",
        "      y=y_train,\n",
        "      batch_size=batch_size,\n",
        "      epochs=num_epochs,\n",
        "      validation_split=0.1,\n",
        "      callbacks=[checkpoint_callback]\n",
        "  )\n",
        "\n",
        "  model.load_weights(checkpoint_filepath)\n",
        "  _, accuracy, top_5_accuracy = model.evaluate(test_data_batches)\n",
        "  print('Test accuracy: {}%'.format(round(accuracy * 100, 2)))\n",
        "  print('Test top 5 accuracy: {}%'.format(round(top_5_accuracy * 100, 2)))\n",
        "  return history\n",
        "\n",
        "\n",
        "vit_classifier = create_vit_classifier()\n",
        "history = run_experiment(vit_classifier)"
      ],
      "metadata": {
        "colab": {
          "base_uri": "https://localhost:8080/"
        },
        "id": "r69J2EhnFK7d",
        "outputId": "e7e8788e-7615-451b-c722-85c6ad4f5578"
      },
      "execution_count": 18,
      "outputs": [
        {
          "output_type": "stream",
          "name": "stdout",
          "text": [
            "Epoch 1/30\n",
            "176/176 [==============================] - 68s 334ms/step - loss: 4.5148 - accuracy: 0.0310 - top5-accuracy: 0.1244 - val_loss: 4.0965 - val_accuracy: 0.0732 - val_top5-accuracy: 0.2550\n",
            "Epoch 2/30\n",
            "176/176 [==============================] - 59s 336ms/step - loss: 4.1267 - accuracy: 0.0636 - top5-accuracy: 0.2225 - val_loss: 3.7532 - val_accuracy: 0.1178 - val_top5-accuracy: 0.3490\n",
            "Epoch 3/30\n",
            "176/176 [==============================] - 60s 342ms/step - loss: 3.8974 - accuracy: 0.0948 - top5-accuracy: 0.2954 - val_loss: 3.5558 - val_accuracy: 0.1574 - val_top5-accuracy: 0.4130\n",
            "Epoch 4/30\n",
            "176/176 [==============================] - 61s 344ms/step - loss: 3.7511 - accuracy: 0.1179 - top5-accuracy: 0.3405 - val_loss: 3.3755 - val_accuracy: 0.1846 - val_top5-accuracy: 0.4684\n",
            "Epoch 5/30\n",
            "176/176 [==============================] - 60s 343ms/step - loss: 3.5965 - accuracy: 0.1414 - top5-accuracy: 0.3848 - val_loss: 3.2704 - val_accuracy: 0.2088 - val_top5-accuracy: 0.4950\n",
            "Epoch 6/30\n",
            "176/176 [==============================] - 61s 345ms/step - loss: 3.4605 - accuracy: 0.1679 - top5-accuracy: 0.4254 - val_loss: 3.1206 - val_accuracy: 0.2380 - val_top5-accuracy: 0.5252\n",
            "Epoch 7/30\n",
            "176/176 [==============================] - 61s 345ms/step - loss: 3.2964 - accuracy: 0.1982 - top5-accuracy: 0.4753 - val_loss: 2.9557 - val_accuracy: 0.2648 - val_top5-accuracy: 0.5756\n",
            "Epoch 8/30\n",
            "176/176 [==============================] - 61s 344ms/step - loss: 3.1412 - accuracy: 0.2301 - top5-accuracy: 0.5194 - val_loss: 2.8099 - val_accuracy: 0.2958 - val_top5-accuracy: 0.5972\n",
            "Epoch 9/30\n",
            "176/176 [==============================] - 60s 343ms/step - loss: 2.9857 - accuracy: 0.2611 - top5-accuracy: 0.5587 - val_loss: 2.6463 - val_accuracy: 0.3298 - val_top5-accuracy: 0.6422\n",
            "Epoch 10/30\n",
            "176/176 [==============================] - 60s 343ms/step - loss: 2.8398 - accuracy: 0.2916 - top5-accuracy: 0.5941 - val_loss: 2.5658 - val_accuracy: 0.3528 - val_top5-accuracy: 0.6634\n",
            "Epoch 11/30\n",
            "176/176 [==============================] - 60s 343ms/step - loss: 2.7176 - accuracy: 0.3186 - top5-accuracy: 0.6211 - val_loss: 2.4825 - val_accuracy: 0.3756 - val_top5-accuracy: 0.6796\n",
            "Epoch 12/30\n",
            "176/176 [==============================] - 60s 343ms/step - loss: 2.6257 - accuracy: 0.3334 - top5-accuracy: 0.6452 - val_loss: 2.3851 - val_accuracy: 0.3914 - val_top5-accuracy: 0.6962\n",
            "Epoch 13/30\n",
            "176/176 [==============================] - 60s 343ms/step - loss: 2.5212 - accuracy: 0.3562 - top5-accuracy: 0.6694 - val_loss: 2.3781 - val_accuracy: 0.3960 - val_top5-accuracy: 0.6996\n",
            "Epoch 14/30\n",
            "176/176 [==============================] - 61s 344ms/step - loss: 2.4539 - accuracy: 0.3682 - top5-accuracy: 0.6844 - val_loss: 2.3283 - val_accuracy: 0.4094 - val_top5-accuracy: 0.7104\n",
            "Epoch 15/30\n",
            "176/176 [==============================] - 60s 342ms/step - loss: 2.3793 - accuracy: 0.3876 - top5-accuracy: 0.6999 - val_loss: 2.2565 - val_accuracy: 0.4166 - val_top5-accuracy: 0.7192\n",
            "Epoch 16/30\n",
            "176/176 [==============================] - 60s 340ms/step - loss: 2.3127 - accuracy: 0.4002 - top5-accuracy: 0.7123 - val_loss: 2.2582 - val_accuracy: 0.4162 - val_top5-accuracy: 0.7196\n",
            "Epoch 17/30\n",
            "176/176 [==============================] - 60s 343ms/step - loss: 2.2477 - accuracy: 0.4168 - top5-accuracy: 0.7253 - val_loss: 2.1889 - val_accuracy: 0.4304 - val_top5-accuracy: 0.7338\n",
            "Epoch 18/30\n",
            "176/176 [==============================] - 60s 341ms/step - loss: 2.1858 - accuracy: 0.4261 - top5-accuracy: 0.7396 - val_loss: 2.1890 - val_accuracy: 0.4318 - val_top5-accuracy: 0.7324\n",
            "Epoch 19/30\n",
            "176/176 [==============================] - 60s 343ms/step - loss: 2.1385 - accuracy: 0.4373 - top5-accuracy: 0.7467 - val_loss: 2.1478 - val_accuracy: 0.4394 - val_top5-accuracy: 0.7404\n",
            "Epoch 20/30\n",
            "176/176 [==============================] - 60s 343ms/step - loss: 2.0865 - accuracy: 0.4471 - top5-accuracy: 0.7582 - val_loss: 2.1018 - val_accuracy: 0.4474 - val_top5-accuracy: 0.7446\n",
            "Epoch 21/30\n",
            "176/176 [==============================] - 60s 343ms/step - loss: 2.0384 - accuracy: 0.4602 - top5-accuracy: 0.7672 - val_loss: 2.0712 - val_accuracy: 0.4562 - val_top5-accuracy: 0.7542\n",
            "Epoch 22/30\n",
            "176/176 [==============================] - 60s 343ms/step - loss: 1.9890 - accuracy: 0.4710 - top5-accuracy: 0.7771 - val_loss: 2.0254 - val_accuracy: 0.4648 - val_top5-accuracy: 0.7644\n",
            "Epoch 23/30\n",
            "176/176 [==============================] - 60s 340ms/step - loss: 1.9374 - accuracy: 0.4802 - top5-accuracy: 0.7887 - val_loss: 2.0365 - val_accuracy: 0.4706 - val_top5-accuracy: 0.7608\n",
            "Epoch 24/30\n",
            "176/176 [==============================] - 60s 343ms/step - loss: 1.8994 - accuracy: 0.4898 - top5-accuracy: 0.7928 - val_loss: 2.0176 - val_accuracy: 0.4672 - val_top5-accuracy: 0.7722\n",
            "Epoch 25/30\n",
            "176/176 [==============================] - 60s 342ms/step - loss: 1.8583 - accuracy: 0.4989 - top5-accuracy: 0.8019 - val_loss: 2.0080 - val_accuracy: 0.4670 - val_top5-accuracy: 0.7662\n",
            "Epoch 26/30\n",
            "176/176 [==============================] - 60s 342ms/step - loss: 1.8292 - accuracy: 0.5050 - top5-accuracy: 0.8067 - val_loss: 1.9749 - val_accuracy: 0.4774 - val_top5-accuracy: 0.7696\n",
            "Epoch 27/30\n",
            "176/176 [==============================] - 60s 343ms/step - loss: 1.7884 - accuracy: 0.5132 - top5-accuracy: 0.8163 - val_loss: 1.9659 - val_accuracy: 0.4756 - val_top5-accuracy: 0.7704\n",
            "Epoch 28/30\n",
            "176/176 [==============================] - 60s 340ms/step - loss: 1.7425 - accuracy: 0.5255 - top5-accuracy: 0.8222 - val_loss: 1.9689 - val_accuracy: 0.4836 - val_top5-accuracy: 0.7760\n",
            "Epoch 29/30\n",
            "176/176 [==============================] - 60s 343ms/step - loss: 1.7283 - accuracy: 0.5283 - top5-accuracy: 0.8263 - val_loss: 1.9555 - val_accuracy: 0.4792 - val_top5-accuracy: 0.7800\n",
            "Epoch 30/30\n",
            "176/176 [==============================] - 60s 343ms/step - loss: 1.6819 - accuracy: 0.5396 - top5-accuracy: 0.8329 - val_loss: 1.9052 - val_accuracy: 0.4968 - val_top5-accuracy: 0.7892\n",
            "313/313 [==============================] - 6s 20ms/step - loss: 1.8730 - accuracy: 0.5030 - top5-accuracy: 0.7876\n",
            "Test accuracy: 50.3%\n",
            "Test top 5 accuracy: 78.76%\n"
          ]
        }
      ]
    },
    {
      "cell_type": "markdown",
      "source": [
        "## Plot results"
      ],
      "metadata": {
        "id": "2eewoMEuIeqM"
      }
    },
    {
      "cell_type": "code",
      "source": [
        "plt.figure(figsize=(15, 5))\n",
        "plt.subplot(121)\n",
        "plt.plot(history.history['accuracy'])\n",
        "plt.plot(history.history['val_accuracy'])\n",
        "plt.title('Accuracy vs. epochs')\n",
        "plt.ylabel('Accuracy')\n",
        "plt.xlabel('Epoch')\n",
        "plt.legend(['Training', 'Validation'], loc='lower right')\n",
        "\n",
        "plt.subplot(122)\n",
        "plt.plot(history.history['loss'])\n",
        "plt.plot(history.history['val_loss'])\n",
        "plt.title('Loss vs. epochs')\n",
        "plt.ylabel('Loss')\n",
        "plt.xlabel('Epoch')\n",
        "plt.legend(['Training', 'Validation'], loc='upper right')\n",
        "plt.show()"
      ],
      "metadata": {
        "id": "pPnrhPKSJRlE",
        "colab": {
          "base_uri": "https://localhost:8080/",
          "height": 350
        },
        "outputId": "3e13c30d-711a-441e-8b37-01d55895acd6"
      },
      "execution_count": 19,
      "outputs": [
        {
          "output_type": "display_data",
          "data": {
            "text/plain": [
              "<Figure size 1080x360 with 2 Axes>"
            ],
            "image/png": "[encoded data removed]"
          },
          "metadata": {
            "needs_background": "light"
          }
        }
      ]
    },
    {
      "cell_type": "code",
      "source": [
        "vit_classifier.evaluate(x_test, y_test)"
      ],
      "metadata": {
        "colab": {
          "base_uri": "https://localhost:8080/"
        },
        "id": "K_4shQkZXP0-",
        "outputId": "17fccc0f-b328-4a36-e442-c54af83c8f3f"
      },
      "execution_count": 21,
      "outputs": [
        {
          "output_type": "stream",
          "name": "stdout",
          "text": [
            "313/313 [==============================] - 7s 21ms/step - loss: 1.8730 - accuracy: 0.5030 - top5-accuracy: 0.7876\n"
          ]
        },
        {
          "output_type": "execute_result",
          "data": {
            "text/plain": [
              "[1.8730049133300781, 0.503000020980835, 0.7875999808311462]"
            ]
          },
          "metadata": {},
          "execution_count": 21
        }
      ]
    }
  ]
}